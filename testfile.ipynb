{
 "cells": [
  {
   "cell_type": "markdown",
   "id": "476a02ff",
   "metadata": {},
   "source": [
    "## This is a test file for github"
   ]
  },
  {
   "cell_type": "code",
   "execution_count": 1,
   "id": "18c19f94",
   "metadata": {},
   "outputs": [
    {
     "name": "stdout",
     "output_type": "stream",
     "text": [
      "Helloo World!\n"
     ]
    }
   ],
   "source": [
    "print(\"Helloo World!\")"
   ]
  },
  {
   "cell_type": "code",
   "execution_count": null,
   "id": "e5cc909e",
   "metadata": {},
   "outputs": [],
   "source": []
  }
 ],
 "metadata": {
  "kernelspec": {
   "display_name": "Python 3.9.5 - rstudio",
   "language": "python",
   "name": "rstudio-user-3.9.5"
  },
  "language_info": {
   "codemirror_mode": {
    "name": "ipython",
    "version": 3
   },
   "file_extension": ".py",
   "mimetype": "text/x-python",
   "name": "python",
   "nbconvert_exporter": "python",
   "pygments_lexer": "ipython3",
   "version": "3.9.5"
  }
 },
 "nbformat": 4,
 "nbformat_minor": 5
}
